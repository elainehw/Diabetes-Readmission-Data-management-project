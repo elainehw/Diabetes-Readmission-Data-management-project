{
 "cells": [
  {
   "cell_type": "markdown",
   "metadata": {
    "colab_type": "text",
    "id": "ZvFZtZPXavL0"
   },
   "source": [
    "### Data Transformation"
   ]
  },
  {
   "cell_type": "markdown",
   "metadata": {
    "colab_type": "text",
    "id": "HR3VCW2VavL5"
   },
   "source": [
    "#### Transform the diagnosis column from numerical number to the matched diagnoses name"
   ]
  },
  {
   "cell_type": "code",
   "execution_count": 9,
   "metadata": {
    "colab": {},
    "colab_type": "code",
    "id": "Q4KdLQV6avL8"
   },
   "outputs": [],
   "source": [
    "import pandas as pd\n",
    "df=pd.read_csv(\"cleaned_data.csv\",sep=',')"
   ]
  },
  {
   "cell_type": "code",
   "execution_count": 10,
   "metadata": {
    "colab": {},
    "colab_type": "code",
    "id": "qLZg77isavMD"
   },
   "outputs": [],
   "source": [
    "diag_1=list(df['diag_1'])\n",
    "for i in range(len(diag_1)):\n",
    "    if diag_1[i] in [str(i+390) for i in range(70)] or i in [str(785)]:\n",
    "        diag_1[i]='Circulatory'\n",
    "    elif diag_1[i] in [str(i+460) for i in range(60)] or i in [str(786)]:\n",
    "        diag_1[i]='Respiratory'\n",
    "    elif diag_1[i] in [str(i+520) for i in range(60)] or i in [str(787)]:\n",
    "        diag_1[i]='Digestive'\n",
    "    elif diag_1[i].startswith(\"250.\"):\n",
    "        diag_1[i]='Diabetes'\n",
    "    elif diag_1[i] in [str(i+800) for i in range(200)]:\n",
    "        diag_1[i]='Injury'\n",
    "    elif diag_1[i] in [str(i+710) for i in range(30)]:\n",
    "        diag_1[i]='Musculoskeletal'\n",
    "    elif diag_1[i] in [str(i+580) for i in range(50)] or i in [str(788)]:\n",
    "        diag_1[i]='Genitourinary'\n",
    "    elif diag_1[i] in [str(i+140) for i in range(100)]:\n",
    "        diag_1[i]='Neoplasms'\n",
    "    elif diag_1[i] in [str(i+790) for i in range(100)] or i in [str(780),str(781),str(784)]:\n",
    "        diag_1[i]='Other symptoms, signs, and ill-defined conditions'\n",
    "    elif diag_1[i] in [str(i+240) for i in range(40)] and i != [str(250)]:\n",
    "        diag_1[i]='Endocrine, nutritional, and metabolic diseases and immunity disorders, without diabetes'    \n",
    "    elif diag_1[i] in [str(i+680) for i in range(29)] and i in [str(782)]:\n",
    "        diag_1[i]='Diseases of the skin and subcutaneous tissue'    \n",
    "    elif diag_1[i] in [str(i+290) for i in range(30)]:\n",
    "        diag_1[i]='Mental disorders'     \n",
    "    else:\n",
    "        diag_1[i]='Other'"
   ]
  },
  {
   "cell_type": "code",
   "execution_count": 11,
   "metadata": {
    "colab": {},
    "colab_type": "code",
    "id": "smliAQ-davMH"
   },
   "outputs": [],
   "source": [
    "diag_new1=diag_1"
   ]
  },
  {
   "cell_type": "code",
   "execution_count": 12,
   "metadata": {
    "colab": {},
    "colab_type": "code",
    "id": "r_6f8rr2avMK"
   },
   "outputs": [],
   "source": [
    "diag_1=list(df['diag_2'])\n",
    "for i in range(len(diag_1)):\n",
    "    if diag_1[i] in [str(i+390) for i in range(70)] or i in [str(785)]:\n",
    "        diag_1[i]='Circulatory'\n",
    "    elif diag_1[i] in [str(i+460) for i in range(60)] or i in [str(786)]:\n",
    "        diag_1[i]='Respiratory'\n",
    "    elif diag_1[i] in [str(i+520) for i in range(60)] or i in [str(787)]:\n",
    "        diag_1[i]='Digestive'\n",
    "    elif diag_1[i].startswith(\"250.\"):\n",
    "        diag_1[i]='Diabetes'\n",
    "    elif diag_1[i] in [str(i+800) for i in range(200)]:\n",
    "        diag_1[i]='Injury'\n",
    "    elif diag_1[i] in [str(i+710) for i in range(30)]:\n",
    "        diag_1[i]='Musculoskeletal'\n",
    "    elif diag_1[i] in [str(i+580) for i in range(50)] or i in [str(788)]:\n",
    "        diag_1[i]='Genitourinary'\n",
    "    elif diag_1[i] in [str(i+140) for i in range(100)]:\n",
    "        diag_1[i]='Neoplasms'\n",
    "    elif diag_1[i] in [str(i+790) for i in range(100)] or i in [str(780),str(781),str(784)]:\n",
    "        diag_1[i]='Other symptoms, signs, and ill-defined conditions'\n",
    "    elif diag_1[i] in [str(i+240) for i in range(40)] and i != [str(250)]:\n",
    "        diag_1[i]='Endocrine, nutritional, and metabolic diseases and immunity disorders, without diabetes'    \n",
    "    elif diag_1[i] in [str(i+680) for i in range(29)] and i in [str(782)]:\n",
    "        diag_1[i]='Diseases of the skin and subcutaneous tissue'    \n",
    "    elif diag_1[i] in [str(i+290) for i in range(30)]:\n",
    "        diag_1[i]='Mental disorders'     \n",
    "    else:\n",
    "        diag_1[i]='Other'"
   ]
  },
  {
   "cell_type": "code",
   "execution_count": 13,
   "metadata": {
    "colab": {},
    "colab_type": "code",
    "id": "oPYg9lvlavMR"
   },
   "outputs": [],
   "source": [
    "diag_new2=diag_1"
   ]
  },
  {
   "cell_type": "code",
   "execution_count": 14,
   "metadata": {
    "colab": {},
    "colab_type": "code",
    "id": "3XEdnC_KavMW"
   },
   "outputs": [],
   "source": [
    "diag_1=list(df['diag_3'])\n",
    "for i in range(len(diag_1)):\n",
    "    if diag_1[i] in [str(i+390) for i in range(70)] or i in [str(785)]:\n",
    "        diag_1[i]='Circulatory'\n",
    "    elif diag_1[i] in [str(i+460) for i in range(60)] or i in [str(786)]:\n",
    "        diag_1[i]='Respiratory'\n",
    "    elif diag_1[i] in [str(i+520) for i in range(60)] or i in [str(787)]:\n",
    "        diag_1[i]='Digestive'\n",
    "    elif diag_1[i].startswith(\"250.\"):\n",
    "        diag_1[i]='Diabetes'\n",
    "    elif diag_1[i] in [str(i+800) for i in range(200)]:\n",
    "        diag_1[i]='Injury'\n",
    "    elif diag_1[i] in [str(i+710) for i in range(30)]:\n",
    "        diag_1[i]='Musculoskeletal'\n",
    "    elif diag_1[i] in [str(i+580) for i in range(50)] or i in [str(788)]:\n",
    "        diag_1[i]='Genitourinary'\n",
    "    elif diag_1[i] in [str(i+140) for i in range(100)]:\n",
    "        diag_1[i]='Neoplasms'\n",
    "    elif diag_1[i] in [str(i+790) for i in range(100)] or i in [str(780),str(781),str(784)]:\n",
    "        diag_1[i]='Other symptoms, signs, and ill-defined conditions'\n",
    "    elif diag_1[i] in [str(i+240) for i in range(40)] and i != [str(250)]:\n",
    "        diag_1[i]='Endocrine, nutritional, and metabolic diseases and immunity disorders, without diabetes'    \n",
    "    elif diag_1[i] in [str(i+680) for i in range(29)] and i in [str(782)]:\n",
    "        diag_1[i]='Diseases of the skin and subcutaneous tissue'    \n",
    "    elif diag_1[i] in [str(i+290) for i in range(30)]:\n",
    "        diag_1[i]='Mental disorders'     \n",
    "    else:\n",
    "        diag_1[i]='Other'\n",
    "   "
   ]
  },
  {
   "cell_type": "code",
   "execution_count": 15,
   "metadata": {
    "colab": {},
    "colab_type": "code",
    "id": "jrcN3WJpavMa"
   },
   "outputs": [],
   "source": [
    "diag_new3=diag_1"
   ]
  },
  {
   "cell_type": "code",
   "execution_count": 16,
   "metadata": {
    "colab": {},
    "colab_type": "code",
    "id": "ysHZLnrKavMd"
   },
   "outputs": [],
   "source": [
    "df['diag_new1']=diag_new1\n",
    "df['diag_new2']=diag_new2\n",
    "df['diag_new3']=diag_new3"
   ]
  },
  {
   "cell_type": "code",
   "execution_count": 17,
   "metadata": {
    "colab": {},
    "colab_type": "code",
    "id": "RIGpnYcRavMg",
    "outputId": "53255011-4498-43e1-cc59-7f330f6d327b"
   },
   "outputs": [
    {
     "data": {
      "text/plain": [
       "Circulatory                                                                                29530\n",
       "Other                                                                                      16845\n",
       "Respiratory                                                                                10093\n",
       "Digestive                                                                                   8928\n",
       "Diabetes                                                                                    7774\n",
       "Injury                                                                                      6703\n",
       "Genitourinary                                                                               4947\n",
       "Musculoskeletal                                                                             4739\n",
       "Neoplasms                                                                                   3312\n",
       "Endocrine, nutritional, and metabolic diseases and immunity disorders, without diabetes     2783\n",
       "Mental disorders                                                                            2145\n",
       "Other symptoms, signs, and ill-defined conditions                                            254\n",
       "Name: diag_new1, dtype: int64"
      ]
     },
     "execution_count": 17,
     "metadata": {},
     "output_type": "execute_result"
    }
   ],
   "source": [
    "df['diag_new1'].value_counts()"
   ]
  },
  {
   "cell_type": "code",
   "execution_count": 18,
   "metadata": {
    "colab": {},
    "colab_type": "code",
    "id": "vGWW5Zg7avMl",
    "outputId": "332df271-ec6a-43d4-84c4-48a237595a02"
   },
   "outputs": [
    {
     "data": {
      "text/plain": [
       "Circulatory                                                                                30603\n",
       "Other                                                                                      16267\n",
       "Endocrine, nutritional, and metabolic diseases and immunity disorders, without diabetes    13346\n",
       "Respiratory                                                                                10006\n",
       "Genitourinary                                                                               7829\n",
       "Diabetes                                                                                    6450\n",
       "Digestive                                                                                   3850\n",
       "Mental disorders                                                                            2554\n",
       "Neoplasms                                                                                   2493\n",
       "Injury                                                                                      2328\n",
       "Musculoskeletal                                                                             1710\n",
       "Other symptoms, signs, and ill-defined conditions                                            617\n",
       "Name: diag_new2, dtype: int64"
      ]
     },
     "execution_count": 18,
     "metadata": {},
     "output_type": "execute_result"
    }
   ],
   "source": [
    "df['diag_new2'].value_counts()"
   ]
  },
  {
   "cell_type": "code",
   "execution_count": 19,
   "metadata": {
    "colab": {},
    "colab_type": "code",
    "id": "HmPNLw-favMq",
    "outputId": "0a38af66-fcda-4d23-fd05-e594a203e46f"
   },
   "outputs": [
    {
     "data": {
      "text/plain": [
       "Circulatory                                                                                29255\n",
       "Endocrine, nutritional, and metabolic diseases and immunity disorders, without diabetes    20184\n",
       "Other                                                                                      17529\n",
       "Respiratory                                                                                 6626\n",
       "Genitourinary                                                                               6191\n",
       "Diabetes                                                                                    5487\n",
       "Digestive                                                                                   3500\n",
       "Mental disorders                                                                            3056\n",
       "Injury                                                                                      1890\n",
       "Musculoskeletal                                                                             1862\n",
       "Neoplasms                                                                                   1820\n",
       "Other symptoms, signs, and ill-defined conditions                                            653\n",
       "Name: diag_new3, dtype: int64"
      ]
     },
     "execution_count": 19,
     "metadata": {},
     "output_type": "execute_result"
    }
   ],
   "source": [
    "df['diag_new3'].value_counts()"
   ]
  },
  {
   "cell_type": "code",
   "execution_count": 20,
   "metadata": {
    "colab": {},
    "colab_type": "code",
    "id": "g39L0QjravMt"
   },
   "outputs": [],
   "source": [
    "df.to_csv('tranformed_data.csv',sep=',')"
   ]
  },
  {
   "cell_type": "markdown",
   "metadata": {
    "colab_type": "text",
    "id": "rF4yQg7JavMy"
   },
   "source": [
    "## Hypothesis II"
   ]
  },
  {
   "cell_type": "markdown",
   "metadata": {
    "colab_type": "text",
    "id": "goSHN5CdavM0"
   },
   "source": [
    "###  Does additional diagnosis increase the risk  of  readmission?"
   ]
  },
  {
   "cell_type": "markdown",
   "metadata": {
    "colab_type": "text",
    "id": "QAQKPc2xavM2"
   },
   "source": [
    "Use logistic regression and random forest to see whether there are correlation between diagnosis and readmission.\n",
    "\n",
    "There are two types of inference:\n",
    "\n",
    "1) whether diagnoses are the evidence of readmission\n",
    "\n",
    "2) Can diagnoses predict readmission?"
   ]
  },
  {
   "cell_type": "markdown",
   "metadata": {
    "colab_type": "text",
    "id": "qjVePJdzavM3"
   },
   "source": [
    "### Logistic Regression"
   ]
  },
  {
   "cell_type": "code",
   "execution_count": 21,
   "metadata": {
    "colab": {},
    "colab_type": "code",
    "id": "uHgPzTO4avM5"
   },
   "outputs": [],
   "source": [
    "df2=pd.get_dummies(df['diag_new1'])\n",
    "X=df2\n",
    "Y=df['readmitted'].values"
   ]
  },
  {
   "cell_type": "code",
   "execution_count": 22,
   "metadata": {
    "colab": {},
    "colab_type": "code",
    "id": "Tf78DT9lavM9"
   },
   "outputs": [],
   "source": [
    "from sklearn.base import BaseEstimator, TransformerMixin\n",
    "import pandas as pd\n",
    "from sklearn.model_selection import train_test_split\n",
    "from sklearn.metrics import roc_curve, roc_auc_score, f1_score\n",
    "from sklearn.naive_bayes import GaussianNB\n",
    "from sklearn.linear_model import LogisticRegression\n",
    "from sklearn.neural_network import MLPClassifier\n",
    "from sklearn.naive_bayes import BernoulliNB\n",
    "from sklearn.tree import DecisionTreeClassifier\n",
    "import numpy as np\n",
    "import matplotlib.pyplot as plt\n",
    "import seaborn as sns\n",
    "from sklearn.pipeline import Pipeline, FeatureUnion\n",
    "from sklearn.metrics import accuracy_score\n",
    "from sklearn.metrics import confusion_matrix\n",
    "from sklearn import metrics\n",
    "import warnings"
   ]
  },
  {
   "cell_type": "code",
   "execution_count": 23,
   "metadata": {
    "colab": {},
    "colab_type": "code",
    "id": "9Noizgi9avNB"
   },
   "outputs": [],
   "source": [
    "X_train,X_test,y_train,y_test=train_test_split(X,Y,test_size=0.20,random_state=20)"
   ]
  },
  {
   "cell_type": "code",
   "execution_count": 24,
   "metadata": {
    "colab": {},
    "colab_type": "code",
    "id": "HztuE1DjavNG",
    "outputId": "e99a3b37-e50e-4f16-879e-0856c7252089",
    "scrolled": false
   },
   "outputs": [
    {
     "name": "stderr",
     "output_type": "stream",
     "text": [
      "C:\\Users\\wh_el\\Anaconda3\\lib\\site-packages\\sklearn\\linear_model\\logistic.py:432: FutureWarning: Default solver will be changed to 'lbfgs' in 0.22. Specify a solver to silence this warning.\n",
      "  FutureWarning)\n"
     ]
    },
    {
     "name": "stdout",
     "output_type": "stream",
     "text": [
      "Accuracy,              F1 score,               ROC\n",
      "[0.5359237162816787, 0.284231222965002, 0.5383284558973995]\n",
      "Confusion matrix\n",
      "[[8703 1708]\n",
      " [7393 1807]]\n"
     ]
    },
    {
     "data": {
      "image/png": "[encoded data removed]",
      "text/plain": [
       "<Figure size 576x432 with 2 Axes>"
      ]
     },
     "metadata": {
      "needs_background": "light"
     },
     "output_type": "display_data"
    }
   ],
   "source": [
    "clf = LogisticRegression().fit(X_train, y_train)\n",
    "y_pred_1 = clf.predict(X_test)\n",
    "y_score_1 = clf.predict_proba(X_test)[:,1]\n",
    "acc1 = accuracy_score(y_test, y_pred_1)\n",
    "f1_score_1 = metrics.f1_score(y_test, y_pred_1)\n",
    "roc_1 = metrics.roc_auc_score(y_test, y_score_1)\n",
    "y_true=y_test\n",
    "c1=confusion_matrix(y_true, y_pred_1)\n",
    "print('Accuracy,              F1 score,               ROC')\n",
    "print([acc1,f1_score_1,roc_1])\n",
    "print('Confusion matrix')\n",
    "print(c1)\n",
    "labels = ['Not readmitted', 'Readmitted']\n",
    "plt.figure(figsize=(8,6))\n",
    "sns.heatmap(c1,xticklabels=labels, yticklabels=labels, annot=True, fmt='d', cmap=\"Blues\", vmin = 0.2);\n",
    "plt.title('Confusion Matrix')\n",
    "plt.ylabel('True Class')\n",
    "plt.xlabel('Predicted Class')\n",
    "plt.show()"
   ]
  },
  {
   "cell_type": "code",
   "execution_count": 25,
   "metadata": {
    "colab": {},
    "colab_type": "code",
    "id": "cPeKPyi2avNK"
   },
   "outputs": [],
   "source": [
    "y_pred_train = clf.predict(X_train)"
   ]
  },
  {
   "cell_type": "markdown",
   "metadata": {
    "colab_type": "text",
    "id": "CMpT3zp4avNN"
   },
   "source": [
    "Check Coefficients and P-value "
   ]
  },
  {
   "cell_type": "code",
   "execution_count": 26,
   "metadata": {
    "colab": {},
    "colab_type": "code",
    "id": "zwZ2hr-FavNO"
   },
   "outputs": [],
   "source": [
    "from scipy import stats"
   ]
  },
  {
   "cell_type": "code",
   "execution_count": 27,
   "metadata": {
    "colab": {},
    "colab_type": "code",
    "id": "Qhx7qIq4avNV"
   },
   "outputs": [],
   "source": [
    "sse = np.sum((y_pred_train - y_train) ** 2, axis=0) / float(X_train.shape[0] - X_train.shape[1])\n",
    "se = np.array([np.sqrt(np.diagonal(sse * np.linalg.inv(np.dot(X_train.T, X_train))))])\n",
    "t = clf.coef_ / se\n",
    "p = 2 * (1 - stats.t.cdf(np.abs(t), y_train.shape[0] - X_train.shape[1]))"
   ]
  },
  {
   "cell_type": "code",
   "execution_count": 28,
   "metadata": {
    "colab": {},
    "colab_type": "code",
    "id": "v8ekV8jYavNd",
    "outputId": "27fb53d2-8c5c-4f5e-8c29-53368c6d55b7"
   },
   "outputs": [
    {
     "data": {
      "text/plain": [
       "array([[ 0.05524163,  0.30863811,  0.01655967, -0.05036952, -0.03572937,\n",
       "        -0.03348862,  0.0504319 , -0.22894818, -0.51009574, -0.01103456,\n",
       "         0.08558719,  0.18657889]])"
      ]
     },
     "execution_count": 28,
     "metadata": {},
     "output_type": "execute_result"
    }
   ],
   "source": [
    "clf.coef_"
   ]
  },
  {
   "cell_type": "code",
   "execution_count": 29,
   "metadata": {
    "colab": {},
    "colab_type": "code",
    "id": "j98_N6csavNj",
    "outputId": "a32caee7-5ef3-41f3-ac75-6aaca2969e4c"
   },
   "outputs": [
    {
     "data": {
      "text/plain": [
       "array([[1.97257634e-01, 3.51357161e-07, 9.66226397e-01, 3.17131614e-01,\n",
       "        5.23917814e-01, 4.69557259e-01, 3.30281567e-01, 1.03030663e-06,\n",
       "        0.00000000e+00, 8.58374841e-01, 7.25415571e-02, 8.39779026e-04]])"
      ]
     },
     "execution_count": 29,
     "metadata": {},
     "output_type": "execute_result"
    }
   ],
   "source": [
    "p"
   ]
  },
  {
   "cell_type": "code",
   "execution_count": 30,
   "metadata": {
    "colab": {},
    "colab_type": "code",
    "id": "aeuasVoTavNo",
    "outputId": "18bcd581-ba73-4f42-e1ca-4a91a9528d62"
   },
   "outputs": [
    {
     "name": "stdout",
     "output_type": "stream",
     "text": [
      "Optimization terminated successfully.\n",
      "         Current function value: 0.687954\n",
      "         Iterations 4\n"
     ]
    }
   ],
   "source": [
    "import statsmodels.api as sm\n",
    "model= sm.Logit(y_train,X_train)\n",
    "result=model.fit()"
   ]
  },
  {
   "cell_type": "code",
   "execution_count": 31,
   "metadata": {
    "colab": {},
    "colab_type": "code",
    "id": "wKBovCknavNs",
    "outputId": "db38a423-b0bf-4bb7-cd51-a5a987a390ea"
   },
   "outputs": [
    {
     "data": {
      "text/html": [
       "<table class=\"simpletable\">\n",
       "<caption>Logit Regression Results</caption>\n",
       "<tr>\n",
       "  <th>Dep. Variable:</th>           <td>y</td>        <th>  No. Observations:  </th>  <td> 78442</td>  \n",
       "</tr>\n",
       "<tr>\n",
       "  <th>Model:</th>                 <td>Logit</td>      <th>  Df Residuals:      </th>  <td> 78430</td>  \n",
       "</tr>\n",
       "<tr>\n",
       "  <th>Method:</th>                 <td>MLE</td>       <th>  Df Model:          </th>  <td>    11</td>  \n",
       "</tr>\n",
       "<tr>\n",
       "  <th>Date:</th>            <td>Sat, 07 Dec 2019</td> <th>  Pseudo R-squ.:     </th> <td>0.004069</td> \n",
       "</tr>\n",
       "<tr>\n",
       "  <th>Time:</th>                <td>20:24:06</td>     <th>  Log-Likelihood:    </th> <td> -53965.</td> \n",
       "</tr>\n",
       "<tr>\n",
       "  <th>converged:</th>             <td>True</td>       <th>  LL-Null:           </th> <td> -54185.</td> \n",
       "</tr>\n",
       "<tr>\n",
       "  <th>Covariance Type:</th>     <td>nonrobust</td>    <th>  LLR p-value:       </th> <td>1.189e-87</td>\n",
       "</tr>\n",
       "</table>\n",
       "<table class=\"simpletable\">\n",
       "<tr>\n",
       "                                             <td></td>                                                <th>coef</th>     <th>std err</th>      <th>z</th>      <th>P>|z|</th>  <th>[0.025</th>    <th>0.975]</th>  \n",
       "</tr>\n",
       "<tr>\n",
       "  <th>Circulatory</th>                                                                             <td>   -0.1114</td> <td>    0.013</td> <td>   -8.533</td> <td> 0.000</td> <td>   -0.137</td> <td>   -0.086</td>\n",
       "</tr>\n",
       "<tr>\n",
       "  <th>Diabetes</th>                                                                                <td>    0.1422</td> <td>    0.025</td> <td>    5.616</td> <td> 0.000</td> <td>    0.093</td> <td>    0.192</td>\n",
       "</tr>\n",
       "<tr>\n",
       "  <th>Digestive</th>                                                                               <td>   -0.1501</td> <td>    0.024</td> <td>   -6.335</td> <td> 0.000</td> <td>   -0.196</td> <td>   -0.104</td>\n",
       "</tr>\n",
       "<tr>\n",
       "  <th>Endocrine, nutritional, and metabolic diseases and immunity disorders, without diabetes</th> <td>   -0.2171</td> <td>    0.043</td> <td>   -5.095</td> <td> 0.000</td> <td>   -0.301</td> <td>   -0.134</td>\n",
       "</tr>\n",
       "<tr>\n",
       "  <th>Genitourinary</th>                                                                           <td>   -0.2024</td> <td>    0.032</td> <td>   -6.356</td> <td> 0.000</td> <td>   -0.265</td> <td>   -0.140</td>\n",
       "</tr>\n",
       "<tr>\n",
       "  <th>Injury</th>                                                                                  <td>   -0.2001</td> <td>    0.028</td> <td>   -7.272</td> <td> 0.000</td> <td>   -0.254</td> <td>   -0.146</td>\n",
       "</tr>\n",
       "<tr>\n",
       "  <th>Mental disorders</th>                                                                        <td>   -0.1161</td> <td>    0.048</td> <td>   -2.395</td> <td> 0.017</td> <td>   -0.211</td> <td>   -0.021</td>\n",
       "</tr>\n",
       "<tr>\n",
       "  <th>Musculoskeletal</th>                                                                         <td>   -0.3958</td> <td>    0.033</td> <td>  -11.954</td> <td> 0.000</td> <td>   -0.461</td> <td>   -0.331</td>\n",
       "</tr>\n",
       "<tr>\n",
       "  <th>Neoplasms</th>                                                                               <td>   -0.6776</td> <td>    0.041</td> <td>  -16.609</td> <td> 0.000</td> <td>   -0.758</td> <td>   -0.598</td>\n",
       "</tr>\n",
       "<tr>\n",
       "  <th>Other</th>                                                                                   <td>   -0.1777</td> <td>    0.017</td> <td>  -10.254</td> <td> 0.000</td> <td>   -0.212</td> <td>   -0.144</td>\n",
       "</tr>\n",
       "<tr>\n",
       "  <th>Other symptoms, signs, and ill-defined conditions</th>                                       <td>   -0.0792</td> <td>    0.141</td> <td>   -0.563</td> <td> 0.574</td> <td>   -0.355</td> <td>    0.197</td>\n",
       "</tr>\n",
       "<tr>\n",
       "  <th>Respiratory</th>                                                                             <td>    0.0200</td> <td>    0.022</td> <td>    0.901</td> <td> 0.368</td> <td>   -0.024</td> <td>    0.064</td>\n",
       "</tr>\n",
       "</table>"
      ],
      "text/plain": [
       "<class 'statsmodels.iolib.summary.Summary'>\n",
       "\"\"\"\n",
       "                           Logit Regression Results                           \n",
       "==============================================================================\n",
       "Dep. Variable:                      y   No. Observations:                78442\n",
       "Model:                          Logit   Df Residuals:                    78430\n",
       "Method:                           MLE   Df Model:                           11\n",
       "Date:                Sat, 07 Dec 2019   Pseudo R-squ.:                0.004069\n",
       "Time:                        20:24:06   Log-Likelihood:                -53965.\n",
       "converged:                       True   LL-Null:                       -54185.\n",
       "Covariance Type:            nonrobust   LLR p-value:                 1.189e-87\n",
       "===========================================================================================================================================================\n",
       "                                                                                              coef    std err          z      P>|z|      [0.025      0.975]\n",
       "-----------------------------------------------------------------------------------------------------------------------------------------------------------\n",
       "Circulatory                                                                                -0.1114      0.013     -8.533      0.000      -0.137      -0.086\n",
       "Diabetes                                                                                    0.1422      0.025      5.616      0.000       0.093       0.192\n",
       "Digestive                                                                                  -0.1501      0.024     -6.335      0.000      -0.196      -0.104\n",
       "Endocrine, nutritional, and metabolic diseases and immunity disorders, without diabetes    -0.2171      0.043     -5.095      0.000      -0.301      -0.134\n",
       "Genitourinary                                                                              -0.2024      0.032     -6.356      0.000      -0.265      -0.140\n",
       "Injury                                                                                     -0.2001      0.028     -7.272      0.000      -0.254      -0.146\n",
       "Mental disorders                                                                           -0.1161      0.048     -2.395      0.017      -0.211      -0.021\n",
       "Musculoskeletal                                                                            -0.3958      0.033    -11.954      0.000      -0.461      -0.331\n",
       "Neoplasms                                                                                  -0.6776      0.041    -16.609      0.000      -0.758      -0.598\n",
       "Other                                                                                      -0.1777      0.017    -10.254      0.000      -0.212      -0.144\n",
       "Other symptoms, signs, and ill-defined conditions                                          -0.0792      0.141     -0.563      0.574      -0.355       0.197\n",
       "Respiratory                                                                                 0.0200      0.022      0.901      0.368      -0.024       0.064\n",
       "===========================================================================================================================================================\n",
       "\"\"\""
      ]
     },
     "execution_count": 31,
     "metadata": {},
     "output_type": "execute_result"
    }
   ],
   "source": [
    "pred=result.predict(X_test)\n",
    "result.summary()"
   ]
  },
  {
   "cell_type": "markdown",
   "metadata": {
    "colab_type": "text",
    "id": "3WcDcPjfavNw"
   },
   "source": [
    "### Random Forest"
   ]
  },
  {
   "cell_type": "code",
   "execution_count": 32,
   "metadata": {
    "colab": {},
    "colab_type": "code",
    "id": "CdnbyBssavNy"
   },
   "outputs": [],
   "source": [
    "from sklearn.pipeline import Pipeline, FeatureUnion\n",
    "from sklearn.impute import SimpleImputer\n",
    "from sklearn.preprocessing import StandardScaler, OneHotEncoder\n",
    "from sklearn.model_selection import train_test_split\n",
    "from sklearn.compose import ColumnTransformer\n",
    "from sklearn.metrics import accuracy_score"
   ]
  },
  {
   "cell_type": "code",
   "execution_count": 33,
   "metadata": {
    "colab": {},
    "colab_type": "code",
    "id": "LNzuf4n7avN1"
   },
   "outputs": [],
   "source": [
    "df_clean = pd.read_csv('tranformed_data.csv', na_values = '?')\n",
    "X = df_clean.drop(['Unnamed: 0', 'Unnamed: 0.1','readmitted','encounter_id','patient_nbr','admission_type_id', 'discharge_disposition_id', 'admission_source_id','diag_1', 'diag_2', 'diag_3'], axis=1)\n",
    "y = df_clean['readmitted']"
   ]
  },
  {
   "cell_type": "code",
   "execution_count": 34,
   "metadata": {
    "colab": {},
    "colab_type": "code",
    "id": "_B1d0H_KavN5"
   },
   "outputs": [],
   "source": [
    "X_train,X_test,y_train,y_test=train_test_split(X,y,test_size=0.20,random_state=20)"
   ]
  },
  {
   "cell_type": "code",
   "execution_count": 35,
   "metadata": {
    "colab": {},
    "colab_type": "code",
    "id": "Fp5rTgtkavN8"
   },
   "outputs": [],
   "source": [
    "numeric_features_raw = X.select_dtypes(include=['int64', 'float64']).columns\n",
    "categorical_features_raw = X.select_dtypes(include=['object']).columns"
   ]
  },
  {
   "cell_type": "code",
   "execution_count": 36,
   "metadata": {
    "colab": {},
    "colab_type": "code",
    "id": "G_cg_PHnavN_"
   },
   "outputs": [],
   "source": [
    "categorical_features = ['diag_new1']\n",
    "numeric_features=[]\n",
    "numeric_transformer = Pipeline(steps=[('scaler', StandardScaler())])\n",
    "categorical_transformer = Pipeline(steps=[('onehot', OneHotEncoder(handle_unknown='ignore'))])"
   ]
  },
  {
   "cell_type": "code",
   "execution_count": 37,
   "metadata": {
    "colab": {},
    "colab_type": "code",
    "id": "W9dJBN_gavOF"
   },
   "outputs": [],
   "source": [
    "preprocessor = ColumnTransformer(\n",
    "    transformers=[\n",
    "        ('num', numeric_transformer, numeric_features),\n",
    "        ('cat', categorical_transformer, categorical_features)])"
   ]
  },
  {
   "cell_type": "code",
   "execution_count": 38,
   "metadata": {
    "colab": {},
    "colab_type": "code",
    "id": "6gNXbBDIavOJ"
   },
   "outputs": [],
   "source": [
    "from sklearn.ensemble import RandomForestClassifier\n",
    "rf = Pipeline(steps=[('preprocessor', preprocessor),\n",
    "                      ('classifier', RandomForestClassifier())])"
   ]
  },
  {
   "cell_type": "code",
   "execution_count": 39,
   "metadata": {
    "colab": {},
    "colab_type": "code",
    "id": "IVLCjmmVavOO",
    "outputId": "a4452d04-0c06-4af4-ed12-faa964429772"
   },
   "outputs": [
    {
     "name": "stderr",
     "output_type": "stream",
     "text": [
      "C:\\Users\\wh_el\\Anaconda3\\lib\\site-packages\\sklearn\\ensemble\\forest.py:245: FutureWarning: The default value of n_estimators will change from 10 in version 0.20 to 100 in 0.22.\n",
      "  \"10 in version 0.20 to 100 in 0.22.\", FutureWarning)\n"
     ]
    }
   ],
   "source": [
    "rf.fit(X_train, y_train)\n",
    "y_pred = rf.predict(X_test)"
   ]
  },
  {
   "cell_type": "code",
   "execution_count": 40,
   "metadata": {},
   "outputs": [
    {
     "data": {
      "text/plain": [
       "array(['race', 'gender', 'age', 'time_in_hospital', 'num_lab_procedures',\n",
       "       'num_procedures', 'num_medications', 'number_outpatient',\n",
       "       'number_emergency', 'number_inpatient', 'number_diagnoses',\n",
       "       'max_glu_serum', 'A1Cresult', 'metformin', 'repaglinide',\n",
       "       'nateglinide', 'chlorpropamide', 'glimepiride', 'acetohexamide',\n",
       "       'glipizide', 'glyburide', 'tolbutamide', 'pioglitazone',\n",
       "       'rosiglitazone', 'acarbose', 'miglitol', 'troglitazone',\n",
       "       'tolazamide', 'examide', 'citoglipton', 'insulin',\n",
       "       'glyburide-metformin', 'glipizide-metformin',\n",
       "       'glimepiride-pioglitazone', 'metformin-rosiglitazone',\n",
       "       'metformin-pioglitazone', 'change', 'diabetesMed', 'diag_new1',\n",
       "       'diag_new2', 'diag_new3'], dtype=object)"
      ]
     },
     "execution_count": 40,
     "metadata": {},
     "output_type": "execute_result"
    }
   ],
   "source": [
    "X.columns.values\n"
   ]
  },
  {
   "cell_type": "code",
   "execution_count": 41,
   "metadata": {
    "colab": {},
    "colab_type": "code",
    "id": "ApxjUzOxavOT",
    "outputId": "fe353cd2-3ee2-494f-c11e-ebae739ac23f"
   },
   "outputs": [
    {
     "data": {
      "text/plain": [
       "0.5359237162816787"
      ]
     },
     "execution_count": 41,
     "metadata": {},
     "output_type": "execute_result"
    }
   ],
   "source": [
    "accuracy_score(y_test,y_pred)"
   ]
  },
  {
   "cell_type": "markdown",
   "metadata": {
    "colab_type": "text",
    "id": "DbKyVWyaavOY"
   },
   "source": [
    "### Feature importances"
   ]
  },
  {
   "cell_type": "code",
   "execution_count": 42,
   "metadata": {
    "colab": {},
    "colab_type": "code",
    "id": "hFXfYihkavOa"
   },
   "outputs": [],
   "source": [
    "hot_coded_cat_names = rf.named_steps['preprocessor'].transformers_[1][1]\\\n",
    "   .named_steps['onehot'].get_feature_names(categorical_features)"
   ]
  },
  {
   "cell_type": "code",
   "execution_count": 43,
   "metadata": {
    "colab": {},
    "colab_type": "code",
    "id": "CoM4wheyavOd"
   },
   "outputs": [],
   "source": [
    "numeric_features = []\n",
    "feature_names = list(hot_coded_cat_names)+numeric_features"
   ]
  },
  {
   "cell_type": "code",
   "execution_count": 44,
   "metadata": {
    "colab": {},
    "colab_type": "code",
    "id": "XSO1k8dYavOh",
    "outputId": "83df936d-304e-4bf5-aba4-7bee62533ab6"
   },
   "outputs": [
    {
     "data": {
      "text/html": [
       "<div>\n",
       "<style scoped>\n",
       "    .dataframe tbody tr th:only-of-type {\n",
       "        vertical-align: middle;\n",
       "    }\n",
       "\n",
       "    .dataframe tbody tr th {\n",
       "        vertical-align: top;\n",
       "    }\n",
       "\n",
       "    .dataframe thead th {\n",
       "        text-align: right;\n",
       "    }\n",
       "</style>\n",
       "<table border=\"1\" class=\"dataframe\">\n",
       "  <thead>\n",
       "    <tr style=\"text-align: right;\">\n",
       "      <th></th>\n",
       "      <th>importance</th>\n",
       "    </tr>\n",
       "  </thead>\n",
       "  <tbody>\n",
       "    <tr>\n",
       "      <td>diag_new1_Neoplasms</td>\n",
       "      <td>0.404523</td>\n",
       "    </tr>\n",
       "    <tr>\n",
       "      <td>diag_new1_Diabetes</td>\n",
       "      <td>0.230842</td>\n",
       "    </tr>\n",
       "    <tr>\n",
       "      <td>diag_new1_Musculoskeletal</td>\n",
       "      <td>0.126926</td>\n",
       "    </tr>\n",
       "    <tr>\n",
       "      <td>diag_new1_Respiratory</td>\n",
       "      <td>0.095091</td>\n",
       "    </tr>\n",
       "    <tr>\n",
       "      <td>diag_new1_Other</td>\n",
       "      <td>0.039359</td>\n",
       "    </tr>\n",
       "    <tr>\n",
       "      <td>diag_new1_Endocrine, nutritional, and metabolic diseases and immunity disorders, without diabetes</td>\n",
       "      <td>0.024696</td>\n",
       "    </tr>\n",
       "    <tr>\n",
       "      <td>diag_new1_Genitourinary</td>\n",
       "      <td>0.022681</td>\n",
       "    </tr>\n",
       "    <tr>\n",
       "      <td>diag_new1_Injury</td>\n",
       "      <td>0.019403</td>\n",
       "    </tr>\n",
       "    <tr>\n",
       "      <td>diag_new1_Circulatory</td>\n",
       "      <td>0.016627</td>\n",
       "    </tr>\n",
       "    <tr>\n",
       "      <td>diag_new1_Digestive</td>\n",
       "      <td>0.013456</td>\n",
       "    </tr>\n",
       "    <tr>\n",
       "      <td>diag_new1_Mental disorders</td>\n",
       "      <td>0.004647</td>\n",
       "    </tr>\n",
       "    <tr>\n",
       "      <td>diag_new1_Other symptoms, signs, and ill-defined conditions</td>\n",
       "      <td>0.001748</td>\n",
       "    </tr>\n",
       "  </tbody>\n",
       "</table>\n",
       "</div>"
      ],
      "text/plain": [
       "                                                    importance\n",
       "diag_new1_Neoplasms                                   0.404523\n",
       "diag_new1_Diabetes                                    0.230842\n",
       "diag_new1_Musculoskeletal                             0.126926\n",
       "diag_new1_Respiratory                                 0.095091\n",
       "diag_new1_Other                                       0.039359\n",
       "diag_new1_Endocrine, nutritional, and metabolic...    0.024696\n",
       "diag_new1_Genitourinary                               0.022681\n",
       "diag_new1_Injury                                      0.019403\n",
       "diag_new1_Circulatory                                 0.016627\n",
       "diag_new1_Digestive                                   0.013456\n",
       "diag_new1_Mental disorders                            0.004647\n",
       "diag_new1_Other symptoms, signs, and ill-define...    0.001748"
      ]
     },
     "execution_count": 44,
     "metadata": {},
     "output_type": "execute_result"
    }
   ],
   "source": [
    "feature_importances = pd.DataFrame(rf.steps[1][1].feature_importances_,\n",
    "                                   index = feature_names,\n",
    "                                    columns=['importance']).sort_values('importance', ascending=False)\n",
    "feature_importances"
   ]
  }
 ],
 "metadata": {
  "colab": {
   "collapsed_sections": [],
   "name": "4. Data Transformation + Hypothesis II.ipynb",
   "provenance": []
  },
  "kernelspec": {
   "display_name": "Python 3",
   "language": "python",
   "name": "python3"
  },
  "language_info": {
   "codemirror_mode": {
    "name": "ipython",
    "version": 3
   },
   "file_extension": ".py",
   "mimetype": "text/x-python",
   "name": "python",
   "nbconvert_exporter": "python",
   "pygments_lexer": "ipython3",
   "version": "3.7.4"
  }
 },
 "nbformat": 4,
 "nbformat_minor": 1
}
